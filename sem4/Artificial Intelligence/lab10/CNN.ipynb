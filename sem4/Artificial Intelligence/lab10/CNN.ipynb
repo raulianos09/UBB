{
 "cells": [
  {
   "cell_type": "code",
   "execution_count": 4,
   "metadata": {},
   "outputs": [],
   "source": [
    "import tensorflow as tf\n",
    "from tensorflow.keras import datasets, layers, models, utils, losses, optimizers, backend, models, optimizers\n",
    "import matplotlib.pyplot as plt"
   ]
  },
  {
   "cell_type": "code",
   "execution_count": 5,
   "metadata": {},
   "outputs": [],
   "source": [
    "batch_size = 100\n",
    "num_classes = 10\n",
    "epochs = 20\n",
    "img_rows, img_cols = 28, 28\n",
    "\n",
    "(train_images, train_labels), (test_images, test_labels) = datasets.mnist.load_data()"
   ]
  },
  {
   "cell_type": "code",
   "execution_count": 6,
   "metadata": {},
   "outputs": [
    {
     "data": {
      "image/png": "[encoded data removed]",
      "text/plain": [
       "<Figure size 432x288 with 1 Axes>"
      ]
     },
     "metadata": {
      "needs_background": "light"
     },
     "output_type": "display_data"
    }
   ],
   "source": [
    "# # View image from dataset\n",
    "image_index = 100# up to 59999\n",
    "plt.title(\"Label: \" + str(train_labels[image_index]))\n",
    "plt.imshow(train_images[image_index], cmap='Greys')\n",
    "plt.show()"
   ]
  },
  {
   "cell_type": "code",
   "execution_count": 7,
   "metadata": {},
   "outputs": [],
   "source": [
    "if backend.image_data_format() == 'channels_first':\n",
    "    train_images = train_images.reshape(train_images.shape[0], 1, img_rows, img_cols)\n",
    "    test_images = test_images.reshape(test_images.shape[0], 1, img_rows, img_cols)\n",
    "    input_shape = (1, img_rows, img_cols)\n",
    "else:\n",
    "    train_images = train_images.reshape(train_images.shape[0], img_rows, img_cols, 1)\n",
    "    test_images = test_images.reshape(test_images.shape[0], img_rows, img_cols, 1)\n",
    "    input_shape = (img_rows, img_cols, 1)"
   ]
  },
  {
   "cell_type": "code",
   "execution_count": 8,
   "metadata": {},
   "outputs": [],
   "source": [
    "# Normalize pixel values to be between 0 and 1\n",
    "train_images, test_images = train_images / 255.0, test_images / 255.0\n",
    "\n",
    "\n",
    "# convert class vectors to binary class matrices\n",
    "train_labels = utils.to_categorical(train_labels, num_classes)\n",
    "test_labels = utils.to_categorical(test_labels, num_classes)"
   ]
  },
  {
   "cell_type": "code",
   "execution_count": 9,
   "metadata": {},
   "outputs": [
    {
     "name": "stdout",
     "output_type": "stream",
     "text": [
      "Model: \"sequential\"\n",
      "_________________________________________________________________\n",
      "Layer (type)                 Output Shape              Param #   \n",
      "=================================================================\n",
      "conv2d (Conv2D)              (None, 26, 26, 32)        320       \n",
      "_________________________________________________________________\n",
      "max_pooling2d (MaxPooling2D) (None, 13, 13, 32)        0         \n",
      "_________________________________________________________________\n",
      "flatten (Flatten)            (None, 5408)              0         \n",
      "_________________________________________________________________\n",
      "dense (Dense)                (None, 30)                162270    \n",
      "_________________________________________________________________\n",
      "dense_1 (Dense)              (None, 10)                310       \n",
      "=================================================================\n",
      "Total params: 162,900\n",
      "Trainable params: 162,900\n",
      "Non-trainable params: 0\n",
      "_________________________________________________________________\n"
     ]
    }
   ],
   "source": [
    "model = models.Sequential()\n",
    "model.add(layers.Conv2D(32, kernel_size=(3, 3), activation='relu', input_shape=input_shape))\n",
    "model.add(layers.MaxPooling2D(pool_size=(2, 2)))\n",
    "model.add(layers.Flatten())\n",
    "model.add(layers.Dense(30, activation='relu'))\n",
    "model.add(layers.Dense(num_classes, activation='softmax'))\n",
    "\n",
    "model.summary()"
   ]
  },
  {
   "cell_type": "code",
   "execution_count": 10,
   "metadata": {},
   "outputs": [],
   "source": [
    "optimizer = optimizers.Adam(lr=0.0002)\n",
    "\n",
    "model.compile(loss=losses.categorical_crossentropy,\n",
    "              optimizer=optimizer,\n",
    "              metrics=['accuracy'])"
   ]
  },
  {
   "cell_type": "code",
   "execution_count": 11,
   "metadata": {},
   "outputs": [
    {
     "name": "stdout",
     "output_type": "stream",
     "text": [
      "Train on 60000 samples, validate on 10000 samples\n",
      "Epoch 1/20\n",
      "60000/60000 [==============================] - 22s 360us/sample - loss: 0.5755 - accuracy: 0.8530 - val_loss: 0.2487 - val_accuracy: 0.9306\n",
      "Epoch 2/20\n",
      "60000/60000 [==============================] - 14s 227us/sample - loss: 0.2171 - accuracy: 0.9381 - val_loss: 0.1741 - val_accuracy: 0.9494\n",
      "Epoch 3/20\n",
      "60000/60000 [==============================] - 14s 233us/sample - loss: 0.1566 - accuracy: 0.9561 - val_loss: 0.1353 - val_accuracy: 0.9606\n",
      "Epoch 4/20\n",
      "60000/60000 [==============================] - 13s 216us/sample - loss: 0.1228 - accuracy: 0.9659 - val_loss: 0.1054 - val_accuracy: 0.9695\n",
      "Epoch 5/20\n",
      "60000/60000 [==============================] - 11s 187us/sample - loss: 0.1015 - accuracy: 0.9719 - val_loss: 0.0896 - val_accuracy: 0.9741\n",
      "Epoch 6/20\n",
      "60000/60000 [==============================] - 11s 187us/sample - loss: 0.0868 - accuracy: 0.9758 - val_loss: 0.0846 - val_accuracy: 0.9748\n",
      "Epoch 7/20\n",
      "60000/60000 [==============================] - 11s 187us/sample - loss: 0.0767 - accuracy: 0.9786 - val_loss: 0.0706 - val_accuracy: 0.9779\n",
      "Epoch 8/20\n",
      "60000/60000 [==============================] - 11s 187us/sample - loss: 0.0685 - accuracy: 0.9805 - val_loss: 0.0698 - val_accuracy: 0.9766\n",
      "Epoch 9/20\n",
      "60000/60000 [==============================] - 14s 228us/sample - loss: 0.0625 - accuracy: 0.9820 - val_loss: 0.0614 - val_accuracy: 0.9800\n",
      "Epoch 10/20\n",
      "60000/60000 [==============================] - 14s 227us/sample - loss: 0.0578 - accuracy: 0.9837 - val_loss: 0.0602 - val_accuracy: 0.9795\n",
      "Epoch 11/20\n",
      "60000/60000 [==============================] - 13s 215us/sample - loss: 0.0532 - accuracy: 0.9848 - val_loss: 0.0585 - val_accuracy: 0.9802\n",
      "Epoch 12/20\n",
      "60000/60000 [==============================] - 13s 217us/sample - loss: 0.0492 - accuracy: 0.9868 - val_loss: 0.0612 - val_accuracy: 0.9801\n",
      "Epoch 13/20\n",
      "60000/60000 [==============================] - 13s 223us/sample - loss: 0.0462 - accuracy: 0.9872 - val_loss: 0.0540 - val_accuracy: 0.9817\n",
      "Epoch 14/20\n",
      "60000/60000 [==============================] - 13s 219us/sample - loss: 0.0431 - accuracy: 0.9877 - val_loss: 0.0537 - val_accuracy: 0.9818\n",
      "Epoch 15/20\n",
      "60000/60000 [==============================] - 13s 222us/sample - loss: 0.0406 - accuracy: 0.9888 - val_loss: 0.0496 - val_accuracy: 0.9822\n",
      "Epoch 16/20\n",
      "60000/60000 [==============================] - 13s 219us/sample - loss: 0.0382 - accuracy: 0.9895 - val_loss: 0.0504 - val_accuracy: 0.9833\n",
      "Epoch 17/20\n",
      "60000/60000 [==============================] - 13s 215us/sample - loss: 0.0358 - accuracy: 0.9904 - val_loss: 0.0480 - val_accuracy: 0.9837\n",
      "Epoch 18/20\n",
      "60000/60000 [==============================] - 14s 227us/sample - loss: 0.0341 - accuracy: 0.9907 - val_loss: 0.0499 - val_accuracy: 0.9839\n",
      "Epoch 19/20\n",
      "60000/60000 [==============================] - 14s 236us/sample - loss: 0.0316 - accuracy: 0.9916 - val_loss: 0.0486 - val_accuracy: 0.9818\n",
      "Epoch 20/20\n",
      "60000/60000 [==============================] - 14s 238us/sample - loss: 0.0300 - accuracy: 0.9919 - val_loss: 0.0471 - val_accuracy: 0.9839\n"
     ]
    }
   ],
   "source": [
    "hist = model.fit(train_images, train_labels,\n",
    "          batch_size=batch_size,\n",
    "          epochs=epochs,\n",
    "          verbose=1,\n",
    "          validation_data=(test_images, test_labels))"
   ]
  },
  {
   "cell_type": "code",
   "execution_count": 12,
   "metadata": {},
   "outputs": [
    {
     "data": {
      "image/png": "[encoded data removed]",
      "text/plain": [
       "<Figure size 432x288 with 1 Axes>"
      ]
     },
     "metadata": {
      "needs_background": "light"
     },
     "output_type": "display_data"
    },
    {
     "data": {
      "image/png": "[encoded data removed]",
      "text/plain": [
       "<Figure size 432x288 with 1 Axes>"
      ]
     },
     "metadata": {
      "needs_background": "light"
     },
     "output_type": "display_data"
    },
    {
     "name": "stdout",
     "output_type": "stream",
     "text": [
      "Test loss: 0.04707921135169454\n",
      "Test accuracy: 0.9839\n"
     ]
    }
   ],
   "source": [
    "# summarize history for accuracy\n",
    "plt.plot(hist.history['accuracy'])\n",
    "plt.plot(hist.history['val_accuracy'])\n",
    "plt.title('model accuracy')\n",
    "plt.ylabel('accuracy')\n",
    "plt.xlabel('epoch')\n",
    "plt.legend(['train', 'test'], loc='upper left')\n",
    "plt.show()\n",
    "\n",
    "# summarize history for loss\n",
    "plt.plot(hist.history['loss'])\n",
    "plt.plot(hist.history['val_loss'])\n",
    "plt.title('model loss')\n",
    "plt.ylabel('loss')\n",
    "plt.xlabel('epoch')\n",
    "plt.legend(['train', 'test'], loc='upper left')\n",
    "plt.show()\n",
    "\n",
    "\n",
    "score = model.evaluate(test_images, test_labels, verbose=0)\n",
    "print('Test loss:', score[0])\n",
    "print('Test accuracy:', score[1])"
   ]
  },
  {
   "cell_type": "code",
   "execution_count": 17,
   "metadata": {},
   "outputs": [
    {
     "name": "stdout",
     "output_type": "stream",
     "text": [
      "Predicted: 3\n"
     ]
    },
    {
     "data": {
      "image/png": "[encoded data removed]",
      "text/plain": [
       "<Figure size 432x288 with 1 Axes>"
      ]
     },
     "metadata": {
      "needs_background": "light"
     },
     "output_type": "display_data"
    }
   ],
   "source": [
    "import numpy as np\n",
    "\n",
    "index = 1020\n",
    "\n",
    "predictions = model.predict([test_images])\n",
    "\n",
    "print(\"Predicted:\", np.argmax(predictions[index]))\n",
    "\n",
    "plt.imshow(test_images[index].reshape(28,28), cmap='Greys')\n",
    "plt.show()"
   ]
  },
  {
   "cell_type": "code",
   "execution_count": null,
   "metadata": {},
   "outputs": [],
   "source": []
  }
 ],
 "metadata": {
  "kernelspec": {
   "display_name": "Python 3",
   "language": "python",
   "name": "python3"
  },
  "language_info": {
   "codemirror_mode": {
    "name": "ipython",
    "version": 3
   },
   "file_extension": ".py",
   "mimetype": "text/x-python",
   "name": "python",
   "nbconvert_exporter": "python",
   "pygments_lexer": "ipython3",
   "version": "3.6.2"
  }
 },
 "nbformat": 4,
 "nbformat_minor": 4
}
