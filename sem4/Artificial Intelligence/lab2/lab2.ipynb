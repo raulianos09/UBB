{
 "cells": [
  {
   "cell_type": "code",
   "execution_count": 1,
   "metadata": {},
   "outputs": [],
   "source": [
    "from time import time\n",
    "import numpy\n",
    "import math"
   ]
  },
  {
   "cell_type": "code",
   "execution_count": 2,
   "metadata": {},
   "outputs": [],
   "source": [
    "class State:\n",
    "    def __init__(self):\n",
    "        self.__values = []\n",
    "    \n",
    "    def setValues(self, values):\n",
    "        self.__values = values[:]\n",
    "    \n",
    "    def getValues(self):\n",
    "        return self.__values[:]\n",
    "    \n",
    "    def __str__(self):\n",
    "        return str(self.__values)\n",
    "    \n",
    "    def __repr__(self):\n",
    "        return repr(self.__values)"
   ]
  },
  {
   "cell_type": "code",
   "execution_count": 3,
   "metadata": {},
   "outputs": [],
   "source": [
    "class Problem:\n",
    "    def __init__(self, n, values):\n",
    "        self.__n = n\n",
    "        self.__initialState = State()\n",
    "        self.__initialState.setValues(values)\n",
    "        self.__finalState = State()\n",
    "    \n",
    "    def expand(self,state):\n",
    "        children = []\n",
    "        values = state.getValues()\n",
    "        \n",
    "        for i in range(0, len(values)):\n",
    "            for j in range(0, len(values)):\n",
    "                if values[i][j] == 0:\n",
    "                    childValues = numpy.copy(values)\n",
    "                    childValues[i][j] = 1\n",
    "                    \n",
    "                    child = State()\n",
    "                    child.setValues(childValues)\n",
    "                    \n",
    "                    children.append(child)\n",
    "        return children\n",
    "    \n",
    "    def heuristic(self, state):\n",
    "        values = state.getValues()\n",
    "        boardSize = self.__n\n",
    "        \n",
    "        # Check if 2 queens are on the same row / col\n",
    "        for i in range(0, boardSize):\n",
    "            if sum(values[i]) > 1 or sum(values[:,i]) > 1:\n",
    "                return math.inf\n",
    "        \n",
    "        numberOfQueens = sum(numpy.sum(values, axis=0))\n",
    "        if numberOfQueens <= boardSize:\n",
    "            return boardSize - numberOfQueens\n",
    "        \n",
    "        return math.inf\n",
    "    \n",
    "    \n",
    "    def readFromFile(self, fileName):\n",
    "        values = numpy.loadtxt(fileName, unpacking = True, dtype = numpy.int8)\n",
    "        self.__initialState.setValues(values)\n",
    "    \n",
    "    def getInitialState(self):\n",
    "        return self.__initialState\n",
    "    \n",
    "    def setInitialState(self, initialState):\n",
    "        self.__initialState = initialState\n",
    "    \n",
    "    def setFinalState(self, finalState):\n",
    "        self.__finalState = finalState\n",
    "    \n",
    "    def getFinalState(self):\n",
    "        return self.__finalState\n",
    "    \n",
    "    def getSize(self):\n",
    "        return self.__n\n",
    "    "
   ]
  },
  {
   "cell_type": "code",
   "execution_count": 4,
   "metadata": {},
   "outputs": [],
   "source": [
    "class Controller:\n",
    "    def __init__(self, problem):\n",
    "        self.__problem = problem\n",
    "    \n",
    "    def orderStates(self, listOfStates):\n",
    "        return sorted(listOfStates, key=self.__problem.heuristic)\n",
    "    \n",
    "    def bfs(self):\n",
    "        initialState = self.__problem.getInitialState()\n",
    "        nodesToVisit = [initialState]\n",
    "        \n",
    "        while len(nodesToVisit) != 0:\n",
    "            currentState = nodesToVisit.pop(0)\n",
    "            \n",
    "            if self.isSolution(currentState):\n",
    "                return currentState\n",
    "\n",
    "            currentStateChildren = self.__problem.expand(currentState)\n",
    "            nodesToVisit = nodesToVisit + currentStateChildren\n",
    "            \n",
    "        return State()\n",
    "    \n",
    "    def cutSearch(self, state):\n",
    "        values = state.getValues()\n",
    "        boardSize = self.__problem.getSize()\n",
    "\n",
    "        if sum(numpy.sum(values, axis = 1)) >= boardSize:\n",
    "            return True\n",
    "\n",
    "        return False\n",
    "\n",
    "    def dfs(self):\n",
    "        initialState = self.__problem.getInitialState()\n",
    "        nodesToVisit = [initialState]\n",
    "        \n",
    "        while len(nodesToVisit) != 0:\n",
    "            currentState = nodesToVisit.pop(0)\n",
    "            \n",
    "            if self.isSolution(currentState):\n",
    "                return currentState\n",
    "            \n",
    "            currentStateChildren = []\n",
    "            \n",
    "            if not self.cutSearch(currentState):\n",
    "                currentStateChildren = self.__problem.expand(currentState)\n",
    "                \n",
    "            nodesToVisit = currentStateChildren + nodesToVisit\n",
    "        \n",
    "        return State()\n",
    "        \n",
    "    \n",
    "    def gbfs(self):\n",
    "        initialState = self.__problem.getInitialState()\n",
    "        nodesToVisit = [initialState]\n",
    "        \n",
    "        while len(nodesToVisit) != 0:\n",
    "            currentState = nodesToVisit.pop(0)\n",
    "            \n",
    "            if self.isSolution(currentState):\n",
    "                return currentState\n",
    "\n",
    "            currentStateChildren = self.__problem.expand(currentState)\n",
    "            nodesToVisit = self.orderStates(nodesToVisit + currentStateChildren)\n",
    "            \n",
    "        return State()\n",
    "        \n",
    "    def isSolution(self, state):\n",
    "        values = state.getValues()\n",
    "        boardSize = self.__problem.getSize()\n",
    "        \n",
    "        # Check rows and columns\n",
    "        for i in range(0, boardSize):\n",
    "            if sum(values[i]) != 1 or sum(values[:,i]) != 1:\n",
    "                return False\n",
    "            \n",
    "        # Check diagonals\n",
    "        for row in range(0, boardSize):\n",
    "            for col in range(0, boardSize):\n",
    "                if values[row, col] == 1:\n",
    "                    #Check right diagonal\n",
    "                    i = row + 1\n",
    "                    j = col + 1\n",
    "                    while(i < boardSize and j < boardSize):\n",
    "                        if values[i,j] == 1:\n",
    "                            return False\n",
    "                        i += 1\n",
    "                        j += 1\n",
    "                    \n",
    "                    #Check left diagonal\n",
    "                    i = row + 1\n",
    "                    j = col - 1\n",
    "                    while(i < boardSize and j >= 0):\n",
    "                        if values[i,j] == 1:\n",
    "                            return False\n",
    "                        i += 1\n",
    "                        j -= 1\n",
    "                    \n",
    "        return True"
   ]
  },
  {
   "cell_type": "code",
   "execution_count": 5,
   "metadata": {},
   "outputs": [],
   "source": [
    "class UI:\n",
    "    def __init__(self):\n",
    "        pass\n",
    "    \n",
    "    def printMainMenu(self):\n",
    "        menu = \"0.Exit\\n\"\n",
    "        menu += \"1.DFS\\n\"\n",
    "        menu += \"2.BFS\\n\"\n",
    "        menu += \"3.GBFS\\n\"\n",
    "        \n",
    "        print(menu)\n",
    "\n",
    "    def run(self):\n",
    "        while True:\n",
    "            n = int(input(\"Enter problem size:\"))\n",
    "            p = Problem(n, numpy.zeros((n,n), numpy.int8))\n",
    "            c = Controller(p)\n",
    "            \n",
    "            self.printMainMenu()\n",
    "\n",
    "            command = int(input(\"Enter finding method:\"))\n",
    "            if command == 0:\n",
    "                return\n",
    "            elif command == 1:\n",
    "                print(\"-------------------------------------DFS-------------------------------------\\n\")\n",
    "                print(\"Solution found:\\n\", c.dfs())\n",
    "            elif command == 2:\n",
    "                print(\"-------------------------------------BFS-------------------------------------\\n\")\n",
    "                print(\"Solution found:\\n\", c.bfs())\n",
    "            elif command == 3:\n",
    "                print(\"-------------------------------------GBFS-------------------------------------\\n\")\n",
    "                print(\"Solution found:\\n\", c.gbfs())"
   ]
  },
  {
   "cell_type": "code",
   "execution_count": 6,
   "metadata": {},
   "outputs": [
    {
     "name": "stdout",
     "output_type": "stream",
     "text": [
      "[[1 0 0 0 0]\n",
      " [0 0 1 0 0]\n",
      " [0 0 0 0 1]\n",
      " [0 1 0 0 0]\n",
      " [0 0 0 1 0]]\n"
     ]
    }
   ],
   "source": [
    "n = 5\n",
    "p = Problem(n, numpy.zeros((n,n), numpy.int8))\n",
    "c = Controller(p)\n",
    "\n",
    "print(c.dfs())"
   ]
  },
  {
   "cell_type": "code",
   "execution_count": null,
   "metadata": {},
   "outputs": [],
   "source": [
    "n = 4\n",
    "p = Problem(n, numpy.zeros((n,n), numpy.int8))\n",
    "c = Controller(p)\n",
    "\n",
    "print(c.bfs())"
   ]
  },
  {
   "cell_type": "code",
   "execution_count": 8,
   "metadata": {},
   "outputs": [
    {
     "name": "stdout",
     "output_type": "stream",
     "text": [
      "[[1 0 0 0 0]\n",
      " [0 0 1 0 0]\n",
      " [0 0 0 0 1]\n",
      " [0 1 0 0 0]\n",
      " [0 0 0 1 0]]\n"
     ]
    }
   ],
   "source": [
    "n = 5\n",
    "p = Problem(n, numpy.zeros((n,n), numpy.int8))\n",
    "c = Controller(p)\n",
    "\n",
    "print(str(c.gbfs()))"
   ]
  },
  {
   "cell_type": "code",
   "execution_count": null,
   "metadata": {},
   "outputs": [
    {
     "name": "stdin",
     "output_type": "stream",
     "text": [
      "Enter problem size: 4\n"
     ]
    },
    {
     "name": "stdout",
     "output_type": "stream",
     "text": [
      "0.Exit\n",
      "1.DFS\n",
      "2.BFS\n",
      "3.GBFS\n",
      "\n"
     ]
    },
    {
     "name": "stdin",
     "output_type": "stream",
     "text": [
      "Enter finding method: 2\n"
     ]
    },
    {
     "name": "stdout",
     "output_type": "stream",
     "text": [
      "-------------------------------------BFS-------------------------------------\n",
      "\n",
      "Solution found:\n",
      " [[0 1 0 0]\n",
      " [0 0 0 1]\n",
      " [1 0 0 0]\n",
      " [0 0 1 0]]\n"
     ]
    },
    {
     "name": "stdin",
     "output_type": "stream",
     "text": [
      "Enter problem size: 5\n"
     ]
    },
    {
     "name": "stdout",
     "output_type": "stream",
     "text": [
      "0.Exit\n",
      "1.DFS\n",
      "2.BFS\n",
      "3.GBFS\n",
      "\n"
     ]
    },
    {
     "name": "stdin",
     "output_type": "stream",
     "text": [
      "Enter finding method: 3\n"
     ]
    },
    {
     "name": "stdout",
     "output_type": "stream",
     "text": [
      "-------------------------------------GBFS-------------------------------------\n",
      "\n",
      "Solution found:\n",
      " [[1 0 0 0 0]\n",
      " [0 0 1 0 0]\n",
      " [0 0 0 0 1]\n",
      " [0 1 0 0 0]\n",
      " [0 0 0 1 0]]\n"
     ]
    },
    {
     "name": "stdin",
     "output_type": "stream",
     "text": [
      "Enter problem size: 6\n"
     ]
    },
    {
     "name": "stdout",
     "output_type": "stream",
     "text": [
      "0.Exit\n",
      "1.DFS\n",
      "2.BFS\n",
      "3.GBFS\n",
      "\n"
     ]
    },
    {
     "name": "stdin",
     "output_type": "stream",
     "text": [
      "Enter finding method: 3\n"
     ]
    },
    {
     "name": "stdout",
     "output_type": "stream",
     "text": [
      "-------------------------------------GBFS-------------------------------------\n",
      "\n"
     ]
    }
   ],
   "source": [
    "ui = UI()\n",
    "ui.run()"
   ]
  },
  {
   "cell_type": "code",
   "execution_count": null,
   "metadata": {},
   "outputs": [],
   "source": []
  }
 ],
 "metadata": {
  "kernelspec": {
   "display_name": "Python 3",
   "language": "python",
   "name": "python3"
  },
  "language_info": {
   "codemirror_mode": {
    "name": "ipython",
    "version": 3
   },
   "file_extension": ".py",
   "mimetype": "text/x-python",
   "name": "python",
   "nbconvert_exporter": "python",
   "pygments_lexer": "ipython3",
   "version": "3.7.4"
  }
 },
 "nbformat": 4,
 "nbformat_minor": 4
}
