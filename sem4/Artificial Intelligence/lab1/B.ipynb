{
 "cells": [
  {
   "cell_type": "code",
   "execution_count": 1,
   "metadata": {},
   "outputs": [],
   "source": [
    "import numpy as np\n",
    "from matplotlib import pyplot as plt"
   ]
  },
  {
   "cell_type": "code",
   "execution_count": 2,
   "metadata": {},
   "outputs": [],
   "source": [
    "dist = \"hyper\"\n",
    "rangeStart = 200\n",
    "rangeEnd = 210\n",
    "setSize = 10000"
   ]
  },
  {
   "cell_type": "code",
   "execution_count": 6,
   "metadata": {},
   "outputs": [
    {
     "name": "stdin",
     "output_type": "stream",
     "text": [
      "Enter distribution: hyper\n",
      "Range start: 250\n",
      "Range end: 3000\n",
      "Size of generated set: 1000\n"
     ]
    }
   ],
   "source": [
    "dist = input(\"Enter distribution:\")\n",
    "rangeStart = int(input(\"Range start:\"))\n",
    "rangeEnd = int(input(\"Range end:\"))\n",
    "setSize = int(input(\"Size of generated set:\"))"
   ]
  },
  {
   "cell_type": "code",
   "execution_count": 5,
   "metadata": {},
   "outputs": [
    {
     "data": {
      "image/png": "[encoded data removed]",
      "text/plain": [
       "<Figure size 432x288 with 1 Axes>"
      ]
     },
     "metadata": {
      "needs_background": "light"
     },
     "output_type": "display_data"
    },
    {
     "name": "stdout",
     "output_type": "stream",
     "text": [
      "[236 223 229 228 225 234 231 227 222 232 233 229 232 232 227 231 225 228\n",
      " 234 232 230 229 229 234 231 239 237 226 232 231 227 232 231 232 231 226\n",
      " 235 227 228 231 227 229 227 230 236 235 231 227 228 230 226 229 230 237\n",
      " 231 227 223 227 229 224 220 234 228 230 229 233 232 232 228 233 234 230\n",
      " 228 232 240 229 232 234 228 227 230 235 226 233 226 229 233 228 228 236\n",
      " 231 231 227 225 235 233 228 228 233 234 226 234 232 230 228 231 228 229\n",
      " 233 234 226 229 222 233 232 232 229 232 226 233 227 230 231 229 229 231\n",
      " 238 226 229 229 231 228 224 238 232 232 228 229 230 233 225 224 234 229\n",
      " 232 231 229 229 235 227 231 230 231 228 236 233 232 232 232 229 224 229\n",
      " 231 231 228 233 234 233 234 222 227 226 231 234 233 232 233 233 232 228\n",
      " 226 229 226 231 235 233 230 232 227 229 229 229 232 231 231 235 232 231\n",
      " 231 228 233 228 228 232 234 235 234 230 230 231 225 231 230 229 227 226\n",
      " 226 228 236 227 228 236 232 228 228 233 229 229 232 235 231 233 221 225\n",
      " 229 226 233 226 229 228 226 229 227 234 233 225 232 234 232 235 227 229\n",
      " 233 230 230 232 228 228 232 233 230 228 234 233 230 233 221 226 226 229\n",
      " 228 228 223 235 231 235 229 236 230 230 226 227 223 228 235 231 229 226\n",
      " 225 225 236 229 233 230 224 225 230 238 234 231 226 238 228 233 233 231\n",
      " 231 229 230 234 223 228 226 232 223 229 232 231 227 229 235 233 232 234\n",
      " 236 232 232 234 238 232 233 226 228 229 231 231 233 226 223 236 227 227\n",
      " 238 233 231 231 235 228 231 239 230 234 227 225 238 225 225 230 231 228\n",
      " 227 231 235 233 224 225 225 222 227 229 227 230 226 229 224 234 228 231\n",
      " 233 226 235 229 223 233 231 229 224 222 228 225 230 226 229 228 228 234\n",
      " 229 230 234 227 227 224 236 233 224 229 233 226 229 234 230 225 232 230\n",
      " 230 238 236 229 227 230 222 225 230 234 226 231 232 229 234 229 231 225\n",
      " 226 231 230 229 225 228 228 239 227 232 231 226 230 226 231 229 230 225\n",
      " 226 236 229 225 229 233 225 231 230 231 234 231 235 238 233 230 227 228\n",
      " 232 227 234 235 229 227 229 231 227 227 233 234 231 227 230 232 226 233\n",
      " 232 237 230 227 236 224 235 234 227 233 231 230 230 228 231 239 231 231\n",
      " 231 231 226 225 237 231 238 234 235 231 229 231 227 233 226 231 227 231\n",
      " 231 233 229 230 226 227 224 225 229 231 223 232 236 228 234 230 227 228\n",
      " 229 229 233 233 222 231 228 235 233 230 237 233 229 231 236 232 234 229\n",
      " 232 230 229 233 228 231 227 234 234 230 235 229 230 229 229 233 228 231\n",
      " 227 234 229 230 228 225 230 229 228 232 221 230 229 223 230 231 234 235\n",
      " 229 226 236 237 231 230 228 226 233 230 232 226 231 227 230 232 227 229\n",
      " 231 233 230 232 232 227 226 231 233 230 230 229 232 228 233 225 231 231\n",
      " 234 232 229 231 231 230 228 231 233 224 227 230 227 238 227 229 229 226\n",
      " 224 226 228 228 238 225 227 228 226 237 231 223 228 236 227 228 226 230\n",
      " 226 230 231 231 230 229 232 231 231 233 223 229 231 228 229 229 235 230\n",
      " 232 229 232 224 233 233 222 229 227 232 235 229 232 228 229 235 231 236\n",
      " 224 231 222 223 228 234 227 228 231 220 231 233 234 229 232 234 228 232\n",
      " 228 230 226 233 229 225 230 228 230 231 235 228 233 234 225 226 230 231\n",
      " 231 228 225 230 233 235 226 227 228 231 228 230 227 230 229 229 230 230\n",
      " 230 231 228 236 231 231 230 227 231 235 227 232 231 230 233 236 231 230\n",
      " 228 232 228 233 229 226 231 233 235 231 228 231 231 227 235 226 230 232\n",
      " 228 229 230 231 229 225 232 229 227 231 229 229 230 230 230 230 227 226\n",
      " 230 229 232 231 232 230 226 228 233 226 235 227 227 233 224 225 232 232\n",
      " 234 226 233 221 236 230 233 232 237 228 229 224 235 235 235 238 225 229\n",
      " 231 229 233 225 227 224 227 233 231 221 233 226 224 228 230 229 233 234\n",
      " 233 230 232 236 230 233 227 232 232 234 229 229 229 229 229 231 229 225\n",
      " 225 235 226 230 221 229 224 234 232 231 234 229 230 229 228 232 227 225\n",
      " 226 231 225 231 224 228 236 231 234 230 228 231 235 235 223 230 230 235\n",
      " 229 231 228 232 225 228 229 226 232 226 227 231 231 234 229 234 229 228\n",
      " 234 231 235 232 228 228 233 233 228 226 226 232 234 230 231 230 224 227\n",
      " 233 229 228 227 235 234 232 230 230 231 229 224 228 226 230 227 232 228\n",
      " 235 231 232 235 228 229 229 230 224 228 230 225 226 234 232 228 232 223\n",
      " 233 235 233 228 225 235 232 235 232 229]\n"
     ]
    }
   ],
   "source": [
    "if dist == \"bino\":\n",
    "    n = rangeEnd - rangeStart\n",
    "    generatedNumbers = np.random.binomial(n, 0.6, setSize)\n",
    "    plt.hist(generatedNumbers + rangeStart)\n",
    "    plt.show()\n",
    "    print(generatedNumbers + rangeStart)\n",
    "\n",
    "if dist == \"hyper\":\n",
    "    n = rangeEnd - rangeStart\n",
    "    generatedNumbers = np.random.hypergeometric(10,10,n,setSize)\n",
    "    plt.hist(generatedNumbers + rangeStart)\n",
    "    plt.show()\n",
    "    print(generatedNumbers + rangeStart)"
   ]
  },
  {
   "cell_type": "code",
   "execution_count": null,
   "metadata": {},
   "outputs": [],
   "source": []
  }
 ],
 "metadata": {
  "kernelspec": {
   "display_name": "Python 3",
   "language": "python",
   "name": "python3"
  },
  "language_info": {
   "codemirror_mode": {
    "name": "ipython",
    "version": 3
   },
   "file_extension": ".py",
   "mimetype": "text/x-python",
   "name": "python",
   "nbconvert_exporter": "python",
   "pygments_lexer": "ipython3",
   "version": "3.7.6"
  }
 },
 "nbformat": 4,
 "nbformat_minor": 4
}
