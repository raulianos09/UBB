{
 "cells": [
  {
   "cell_type": "code",
   "execution_count": 2,
   "metadata": {},
   "outputs": [],
   "source": [
    "import numpy as np\n",
    "import math"
   ]
  },
  {
   "cell_type": "code",
   "execution_count": 3,
   "metadata": {},
   "outputs": [],
   "source": [
    "#Cehck validity of row/col/square\n",
    "def isValid(a, size):\n",
    "    return np.unique(a).size == size\n",
    "\n",
    "#Check validity of candidate solution\n",
    "def isSolution(board, boardSize):\n",
    "    #Check row and cols vilidity\n",
    "    for i in range(0,boardSize):\n",
    "        if not isValid(board[i,],boardSize) or not isValid(board[:,i],boardSize):\n",
    "            return False\n",
    "        \n",
    "    #Check squares validity\n",
    "    for row in range(0,boardSize, squareSize):\n",
    "        for col in range(0,boardSize, squareSize):\n",
    "            if not isValid(board[row:row+squareSize, col:col+squareSize], squareSize):\n",
    "                return False\n",
    "\n",
    "    return True"
   ]
  },
  {
   "cell_type": "code",
   "execution_count": 4,
   "metadata": {},
   "outputs": [],
   "source": [
    "#Generate candidate solution\n",
    "def generateCandidateSolution(board, boardSize):\n",
    "    candidate = board\n",
    "    for i in range(0, boardSize):\n",
    "        for j in range(0, boardSize):\n",
    "            if candidate[i][j] == 0:\n",
    "                candidate[i][j] = np.random.randint(boardSize) + 1\n",
    "    return candidate"
   ]
  },
  {
   "cell_type": "code",
   "execution_count": 5,
   "metadata": {},
   "outputs": [
    {
     "name": "stdout",
     "output_type": "stream",
     "text": [
      "Board initial state:\n",
      "[[3. 0. 1. 0.]\n",
      " [0. 1. 2. 3.]\n",
      " [0. 4. 0. 2.]\n",
      " [2. 0. 4. 1.]]\n",
      "Solution not found!\n",
      "\n",
      "Board final state:\n",
      "[[3. 2. 1. 3.]\n",
      " [1. 1. 2. 3.]\n",
      " [1. 4. 3. 2.]\n",
      " [2. 4. 4. 1.]]\n"
     ]
    }
   ],
   "source": [
    "fileName = \"a.txt\" #input(\"Enter filename:\")\n",
    "maxTrials = 10000000 #input(\"Enter maximum number of trials:\")\n",
    "\n",
    "board = np.loadtxt(fileName, unpack=True)\n",
    "boardSize = board.shape[0]\n",
    "squareSize = int(math.sqrt(boardSize))\n",
    "print(\"Board initial state:\")\n",
    "print(board)\n",
    "\n",
    "solvedBoard = board\n",
    "\n",
    "done = False\n",
    "while not done:\n",
    "    candidate = generateCandidateSolution(board, boardSize)\n",
    "    maxTrials-=1\n",
    "    done = isSolution(candidate, boardSize) or maxTrials == 0\n",
    "\n",
    "if maxTrials != 0:\n",
    "    print(\"Solution found!\")\n",
    "    print(\"\\nBoard final state:\")\n",
    "    print(board)\n",
    "else:\n",
    "    print(\"Solution not found!\")\n",
    "    print(\"\\nBoard final state:\")\n",
    "    print(board)\n"
   ]
  }
 ],
 "metadata": {
  "kernelspec": {
   "display_name": "Python 3",
   "language": "python",
   "name": "python3"
  },
  "language_info": {
   "codemirror_mode": {
    "name": "ipython",
    "version": 3
   },
   "file_extension": ".py",
   "mimetype": "text/x-python",
   "name": "python",
   "nbconvert_exporter": "python",
   "pygments_lexer": "ipython3",
   "version": "3.7.6"
  }
 },
 "nbformat": 4,
 "nbformat_minor": 4
}
