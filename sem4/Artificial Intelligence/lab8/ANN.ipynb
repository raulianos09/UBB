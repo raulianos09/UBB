{
 "cells": [
  {
   "cell_type": "code",
   "execution_count": 2,
   "metadata": {},
   "outputs": [],
   "source": [
    "import numpy as np\n",
    "import matplotlib.pyplot as plt\n",
    "import random"
   ]
  },
  {
   "cell_type": "code",
   "execution_count": 143,
   "metadata": {},
   "outputs": [],
   "source": [
    "def activation(x):\n",
    "    return x\n",
    "\n",
    "def activation_derivative(x):\n",
    "    return 1\n",
    "\n",
    "class NeuralNetwork:\n",
    "    def __init__(self, x, y, hidden):\n",
    "        self.input = x\n",
    "        self.weights1 = np.random.rand(self.input.shape[1], hidden)\n",
    "        self.weights2 = np.random.rand(hidden, 1)\n",
    "        \n",
    "        self.bias1 = np.ones((self.input.shape[0], hidden))\n",
    "        self.bias2 = np.ones(y.shape)\n",
    "        \n",
    "        self.y = y\n",
    "        self.output = np.zeros(self.y.shape)\n",
    "        self.loss = []\n",
    "        \n",
    "    def feedforward(self):\n",
    "        self.layer1 = activation(np.dot(self.input, self.weights1) + self.bias1)\n",
    "        self.output = activation(np.dot(self.layer1, self.weights2) + self.bias2)\n",
    "\n",
    "    def backpropagation(self, l_rate):\n",
    "        d_weights2 = np.dot(self.layer1.T, (2*(self.y - self.output) * activation_derivative(self.output)))\n",
    "        d_weights1 = np.dot(self.input.T,  (np.dot(2*(self.y - self.output) * activation_derivative(self.output), self.weights2.T) * activation_derivative(self.layer1)))\n",
    "        self.weights1 += l_rate * d_weights1\n",
    "        self.weights2 += l_rate * d_weights2\n",
    "        self.bias2 -= l_rate * 2*(self.y - self.output) * activation_derivative(self.output)\n",
    "        self.bias1 -= l_rate * np.dot(2*(self.y - self.output) * activation_derivative(self.output), self.weights2.T) * activation_derivative(self.layer1)\n",
    "        self.loss.append(sum((self.y - self.output)**2))\n",
    "       "
   ]
  },
  {
   "cell_type": "code",
   "execution_count": 3,
   "metadata": {},
   "outputs": [],
   "source": [
    "# max value 497\n",
    "training = 497"
   ]
  },
  {
   "cell_type": "code",
   "execution_count": 148,
   "metadata": {},
   "outputs": [
    {
     "name": "stdout",
     "output_type": "stream",
     "text": [
      "[[ 304.84]\n",
      " [-168.82]\n",
      " [ 196.37]\n",
      " [-296.75]\n",
      " [  55.59]\n",
      " [ -32.72]\n",
      " [-159.87]\n",
      " [  95.62]\n",
      " [ -32.61]\n",
      " [   1.65]]\n",
      "[[ 305.05096153]\n",
      " [-168.57562563]\n",
      " [ 196.57236771]\n",
      " [-296.4716211 ]\n",
      " [  55.83408912]\n",
      " [ -32.4720018 ]\n",
      " [-159.6078193 ]\n",
      " [  95.84385006]\n",
      " [ -32.34921022]\n",
      " [   1.89383666]]\n"
     ]
    },
    {
     "data": {
      "image/png": "[encoded data removed]",
      "text/plain": [
       "<Figure size 432x288 with 1 Axes>"
      ]
     },
     "metadata": {
      "needs_background": "light"
     },
     "output_type": "display_data"
    }
   ],
   "source": [
    "data = np.genfromtxt(\"data.txt\", delimiter = ' ')\n",
    "X = data[:training,:-1]\n",
    "y = data[:training, -1:]\n",
    "\n",
    "\n",
    "print(y[:10])\n",
    "nn = NeuralNetwork(X, y, 2)\n",
    "iterations = []\n",
    "for i in range(4000):\n",
    "    nn.feedforward()\n",
    "    nn.backpropagation(0.000000001)\n",
    "    iterations.append(i)\n",
    "\n",
    "print(nn.output[:10])\n",
    "plt.plot(iterations, nn.loss, label='loss value vs iteration')\n",
    "plt.xlabel('Iterations')\n",
    "plt.ylabel('loss function')\n",
    "plt.legend()\n",
    "plt.show()"
   ]
  }
 ],
 "metadata": {
  "kernelspec": {
   "display_name": "Python 3",
   "language": "python",
   "name": "python3"
  },
  "language_info": {
   "codemirror_mode": {
    "name": "ipython",
    "version": 3
   },
   "file_extension": ".py",
   "mimetype": "text/x-python",
   "name": "python",
   "nbconvert_exporter": "python",
   "pygments_lexer": "ipython3",
   "version": "3.7.4"
  }
 },
 "nbformat": 4,
 "nbformat_minor": 4
}
