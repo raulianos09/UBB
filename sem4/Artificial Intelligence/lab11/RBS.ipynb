{
 "cells": [
  {
   "cell_type": "code",
   "execution_count": 211,
   "metadata": {},
   "outputs": [],
   "source": [
    "import matplotlib.pyplot as plt\n",
    "import numpy as np"
   ]
  },
  {
   "cell_type": "code",
   "execution_count": 212,
   "metadata": {},
   "outputs": [],
   "source": [
    "class Rule:\n",
    "    def __init__(self, inputs, output):\n",
    "        self.output = output\n",
    "        self.inputs = inputs\n",
    "\n",
    "    def evaluate(self, inputs):\n",
    "        return [self.output, min([inputs[descriptorName][measureName] for descriptorName, measureName in self.inputs.items()])]"
   ]
  },
  {
   "cell_type": "code",
   "execution_count": 213,
   "metadata": {},
   "outputs": [],
   "source": [
    "class Descriptor:\n",
    "    def __init__(self):\n",
    "        self.descriptors = {}\n",
    "        self.inverse = {}\n",
    "\n",
    "    def addMembership(self, name, membershipFunction, inverse=None):\n",
    "        self.descriptors[name] = membershipFunction\n",
    "        self.inverse[name] = inverse \n",
    "\n",
    "    def fuzzify(self, value):\n",
    "        return {name: membershipFunction(value) for name, membershipFunction in self.descriptors.items()}\n",
    "\n",
    "    def defuzzify(self, name, value):\n",
    "        return self.inverse[name](value)"
   ]
  },
  {
   "cell_type": "code",
   "execution_count": 214,
   "metadata": {},
   "outputs": [],
   "source": [
    "class FuzzySystem:\n",
    "    def __init__(self, rules):\n",
    "        self.inputDescriptors = {}\n",
    "        self.outputDescriptor = None\n",
    "        self.outputDescriptorName = None\n",
    "        self.rules = rules\n",
    "\n",
    "    def addInputDescriptor(self, name, descriptor):\n",
    "        self.inputDescriptors[name] = descriptor\n",
    "    \n",
    "    def setOutputDescriptor(self, name, descriptor):\n",
    "        self.outputDescriptor = descriptor\n",
    "        self.outputDescriptorName = name\n",
    "\n",
    "    def compute(self, inputData):\n",
    "        fuzzyValues = self.__fuzzify(inputData)\n",
    "        \n",
    "        print(\"Fuzzy inputs:\", fuzzyValues)\n",
    "        \n",
    "        ruleValues = self.__evaluateRules(fuzzyValues)\n",
    "        fuzzyMeasures = [(list(descr[0].values())[0], descr[1]) for descr in ruleValues]\n",
    "        \n",
    "        print(\"Fuzzy output:\", *fuzzyMeasures)\n",
    "        \n",
    "        weighted_total = 0\n",
    "        weight_sum = 0\n",
    "        for measure in fuzzyMeasures:\n",
    "            weight_sum += measure[1]\n",
    "            weighted_total += self.outputDescriptor.defuzzify(*measure) * measure[1]\n",
    "        \n",
    "        \n",
    "        print(\"If temperature=\" + str(inputData['temperature']) + \" and capacity=\" + str(inputData['capacity']) + \" then power=\" + str(weighted_total / weight_sum) + \"\\n\")\n",
    "        \n",
    "        return weighted_total / weight_sum\n",
    "\n",
    "    def __fuzzify(self, data):\n",
    "        return {descriptorName: self.inputDescriptors[descriptorName].fuzzify(data[descriptorName]) for descriptorName, value in data.items()}\n",
    "\n",
    "    def __evaluateRules(self, fuzzyValues):\n",
    "        return [rule.evaluate(fuzzyValues) for rule in self.rules if rule.evaluate(fuzzyValues)[1] != 0]"
   ]
  },
  {
   "cell_type": "code",
   "execution_count": 215,
   "metadata": {},
   "outputs": [],
   "source": [
    "class Controller:\n",
    "    def __init__(self, temperature, capacity, power, rules):\n",
    "        self.system = FuzzySystem(rules)\n",
    "        self.system.addInputDescriptor('temperature', temperature)\n",
    "        self.system.addInputDescriptor('capacity', capacity)\n",
    "        self.system.setOutputDescriptor('power', power)\n",
    "\n",
    "    def compute(self, inputs):\n",
    "        return str(self.system.compute(inputs))"
   ]
  },
  {
   "cell_type": "code",
   "execution_count": 216,
   "metadata": {},
   "outputs": [],
   "source": [
    "def membershipTrapezoidal(a, b, c, d):\n",
    "    return lambda x: max(0, min((x-a)/(b-a), 1, (d-x)/(d-c)))\n",
    "\n",
    "def membershipTrapezoidalNINF(c, d):\n",
    "    return lambda x: max(0, min(1, (d-x)/(d-c)))\n",
    "\n",
    "def membershipTrapezoidalINF(a, b):\n",
    "    return lambda x: max(0, min((x-a)/(b-a), 1))\n",
    "\n",
    "def inverseTrapezoidal(a, b):\n",
    "    return lambda y: y*(b-a)+a\n",
    "\n",
    "def membershipTriangular(a, b, c):\n",
    "    return lambda x: max(0, min((x-a)/(b-a), 1, (c-x)/(c-b)))\n",
    "\n",
    "def inverseTriangular(a, b, c):\n",
    "    return lambda x: (inverseTrapezoidal(a, b)(x) + inverseTrapezoidal(c, b)(x)) / 2"
   ]
  },
  {
   "cell_type": "code",
   "execution_count": 217,
   "metadata": {},
   "outputs": [],
   "source": [
    "\n",
    "\n",
    "\n",
    "\n",
    "temperature = Descriptor()\n",
    "temperature.addMembership('cold', membershipTrapezoidalNINF(30, 50))\n",
    "temperature.addMembership('cool', membershipTriangular(30, 50, 70))\n",
    "temperature.addMembership('moderate', membershipTriangular(60, 70, 80))\n",
    "temperature.addMembership('hot', membershipTriangular(70, 90, 110))\n",
    "temperature.addMembership('very hot', membershipTrapezoidalINF(90, 110))\n",
    "\n",
    "capacity = Descriptor()\n",
    "capacity.addMembership('small', membershipTrapezoidalNINF(0, 5))\n",
    "capacity.addMembership('medium', membershipTriangular(3, 5, 7))\n",
    "capacity.addMembership('high', membershipTrapezoidalINF(5, 10))\n",
    "\n",
    "power = Descriptor()\n",
    "power.addMembership('small', membershipTrapezoidalNINF(0, 10), inverseTrapezoidal(10, 0))\n",
    "power.addMembership('medium', membershipTriangular(5, 10, 15), inverseTriangular(5, 10, 15))\n",
    "power.addMembership('high', membershipTrapezoidalINF(10, 20), inverseTrapezoidal(10, 20))\n",
    "\n",
    "\n",
    "rules = []\n",
    "rules.append(Rule({'temperature': 'cold', 'capacity': 'small'}, {'power': 'small'}))\n",
    "rules.append(Rule({'temperature': 'cool', 'capacity': 'small'}, {'power': 'small'}))\n",
    "rules.append(Rule({'temperature': 'moderate', 'capacity': 'small'}, {'power': 'small'}))\n",
    "rules.append(Rule({'temperature': 'hot', 'capacity': 'small'}, {'power': 'small'}))\n",
    "rules.append(Rule({'temperature': 'very hot', 'capacity': 'small'}, {'power': 'small'}))\n",
    "\n",
    "rules.append(Rule({'temperature': 'cold', 'capacity': 'medium'}, {'power': 'medium'}))\n",
    "rules.append(Rule({'temperature': 'cool', 'capacity': 'medium'}, {'power': 'medium'}))\n",
    "rules.append(Rule({'temperature': 'moderate', 'capacity': 'medium'}, {'power': 'small'}))\n",
    "rules.append(Rule({'temperature': 'hot', 'capacity': 'medium'}, {'power': 'small'}))\n",
    "rules.append(Rule({'temperature': 'very hot', 'capacity': 'medium'}, {'power': 'small'}))\n",
    "\n",
    "rules.append(Rule({'temperature': 'cold', 'capacity': 'high'}, {'power': 'high'}))\n",
    "rules.append(Rule({'temperature': 'cool', 'capacity': 'high'}, {'power': 'high'}))\n",
    "rules.append(Rule({'temperature': 'moderate', 'capacity': 'high'}, {'power': 'small'}))\n",
    "rules.append(Rule({'temperature': 'hot', 'capacity': 'high'}, {'power': 'small'}))\n",
    "rules.append(Rule({'temperature': 'very hot', 'capacity': 'high'}, {'power': 'small'}))\n",
    "\n",
    "ctrl = Controller(temperature, capacity, power, rules)"
   ]
  },
  {
   "cell_type": "code",
   "execution_count": 218,
   "metadata": {},
   "outputs": [
    {
     "name": "stdout",
     "output_type": "stream",
     "text": [
      "Fuzzy inputs: {'temperature': {'cold': 1, 'cool': 0, 'moderate': 0, 'hot': 0, 'very hot': 0}, 'capacity': {'small': 0, 'medium': 0, 'high': 1.0}}\n",
      "Fuzzy output: ('high', 1)\n",
      "If temperature=20 and capacity=10 then power=20.0\n",
      "\n",
      "Fuzzy inputs: {'temperature': {'cold': 0, 'cool': 0, 'moderate': 0, 'hot': 0.25, 'very hot': 0.75}, 'capacity': {'small': 0.8, 'medium': 0, 'high': 0}}\n",
      "Fuzzy output: ('small', 0.25) ('small', 0.75)\n",
      "If temperature=105 and capacity=1 then power=3.75\n",
      "\n",
      "Fuzzy inputs: {'temperature': {'cold': 1, 'cool': 0, 'moderate': 0, 'hot': 0, 'very hot': 0}, 'capacity': {'small': 0, 'medium': 1.0, 'high': 0}}\n",
      "Fuzzy output: ('medium', 1)\n",
      "If temperature=1 and capacity=5 then power=10.0\n",
      "\n",
      "Fuzzy inputs: {'temperature': {'cold': 0, 'cool': 0.75, 'moderate': 0, 'hot': 0, 'very hot': 0}, 'capacity': {'small': 0.2, 'medium': 0.5, 'high': 0}}\n",
      "Fuzzy output: ('small', 0.2) ('medium', 0.5)\n",
      "If temperature=55 and capacity=4 then power=9.428571428571429\n",
      "\n",
      "Fuzzy inputs: {'temperature': {'cold': 0, 'cool': 0, 'moderate': 0.5, 'hot': 0.25, 'very hot': 0}, 'capacity': {'small': 0, 'medium': 0, 'high': 0.8}}\n",
      "Fuzzy output: ('small', 0.5) ('small', 0.25)\n",
      "If temperature=75 and capacity=9 then power=5.833333333333333\n",
      "\n"
     ]
    },
    {
     "data": {
      "text/plain": [
       "'5.833333333333333'"
      ]
     },
     "execution_count": 218,
     "metadata": {},
     "output_type": "execute_result"
    }
   ],
   "source": [
    "ctrl.compute({'temperature': 20, 'capacity': 10})\n",
    "ctrl.compute({'temperature': 105, 'capacity': 1})\n",
    "ctrl.compute({'temperature': 1, 'capacity': 5})\n",
    "ctrl.compute({'temperature': 55, 'capacity': 4})\n",
    "ctrl.compute({'temperature': 75, 'capacity': 9})"
   ]
  }
 ],
 "metadata": {
  "kernelspec": {
   "display_name": "Python 3",
   "language": "python",
   "name": "python3"
  },
  "language_info": {
   "codemirror_mode": {
    "name": "ipython",
    "version": 3
   },
   "file_extension": ".py",
   "mimetype": "text/x-python",
   "name": "python",
   "nbconvert_exporter": "python",
   "pygments_lexer": "ipython3",
   "version": "3.6.2"
  }
 },
 "nbformat": 4,
 "nbformat_minor": 4
}
